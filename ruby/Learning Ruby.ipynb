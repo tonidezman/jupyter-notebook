{
 "cells": [
  {
   "cell_type": "code",
   "execution_count": 5,
   "metadata": {
    "collapsed": true
   },
   "outputs": [],
   "source": [
    "if __FILE__ == $0\n",
    "  # execute this code only if you run\n",
    "  # this script\n",
    "end"
   ]
  },
  {
   "cell_type": "markdown",
   "metadata": {},
   "source": [
    "# Structs\n",
    "You can use Struct instead of Class if you only need to store\n",
    "some state."
   ]
  },
  {
   "cell_type": "code",
   "execution_count": 1,
   "metadata": {},
   "outputs": [
    {
     "name": "stdout",
     "output_type": "stream",
     "text": [
      "#<struct Fruit name=:carrot, cal=10>\n"
     ]
    },
    {
     "data": {
      "text/plain": [
       "#<struct Fruit name=:carrot, cal=10>"
      ]
     },
     "execution_count": 1,
     "metadata": {},
     "output_type": "execute_result"
    }
   ],
   "source": [
    "Fruit = Struct.new(:name, :cal)\n",
    "p Fruit.new(:carrot, 10)"
   ]
  },
  {
   "cell_type": "markdown",
   "metadata": {
    "collapsed": true
   },
   "source": [
    "# Yield"
   ]
  },
  {
   "cell_type": "code",
   "execution_count": 2,
   "metadata": {},
   "outputs": [
    {
     "name": "stdout",
     "output_type": "stream",
     "text": [
      "Before yield\n",
      "inside block\n",
      "After yield\n"
     ]
    }
   ],
   "source": [
    "def my_method\n",
    "  puts \"Before yield\"\n",
    "  yield\n",
    "  puts \"After yield\"\n",
    "end\n",
    "\n",
    "my_method { puts \"inside block\" }"
   ]
  },
  {
   "cell_type": "markdown",
   "metadata": {},
   "source": [
    "### We can pass arguments to yield"
   ]
  },
  {
   "cell_type": "code",
   "execution_count": 3,
   "metadata": {},
   "outputs": [
    {
     "name": "stdout",
     "output_type": "stream",
     "text": [
      "Before yield\n",
      "1\n",
      "2\n",
      "3\n",
      "After yield\n"
     ]
    }
   ],
   "source": [
    "def my_method\n",
    "  puts \"Before yield\"\n",
    "  yield(1)\n",
    "  yield 2\n",
    "  yield(3)\n",
    "  puts \"After yield\"\n",
    "end\n",
    "\n",
    "my_method { |num| puts num }"
   ]
  },
  {
   "cell_type": "markdown",
   "metadata": {},
   "source": [
    "### How to handle error using yield?"
   ]
  },
  {
   "cell_type": "code",
   "execution_count": 4,
   "metadata": {},
   "outputs": [
    {
     "name": "stdout",
     "output_type": "stream",
     "text": [
      "Before yield\n"
     ]
    },
    {
     "ename": "LocalJumpError",
     "evalue": "no block given (yield)",
     "output_type": "error",
     "traceback": [
      "\u001b[31mLocalJumpError\u001b[0m: no block given (yield)",
      "\u001b[37m<main>:2:in `my_method'\u001b[0m",
      "\u001b[37m<main>:6:in `<main>'\u001b[0m",
      "\u001b[37m/home/toni/.rbenv/versions/2.5.0/lib/ruby/gems/2.5.0/gems/iruby-0.3/lib/iruby/backend.rb:44:in `eval'\u001b[0m",
      "\u001b[37m/home/toni/.rbenv/versions/2.5.0/lib/ruby/gems/2.5.0/gems/iruby-0.3/lib/iruby/backend.rb:44:in `eval'\u001b[0m",
      "\u001b[37m/home/toni/.rbenv/versions/2.5.0/lib/ruby/gems/2.5.0/gems/iruby-0.3/lib/iruby/backend.rb:12:in `eval'\u001b[0m",
      "\u001b[37m/home/toni/.rbenv/versions/2.5.0/lib/ruby/gems/2.5.0/gems/iruby-0.3/lib/iruby/kernel.rb:87:in `execute_request'\u001b[0m",
      "\u001b[37m/home/toni/.rbenv/versions/2.5.0/lib/ruby/gems/2.5.0/gems/iruby-0.3/lib/iruby/kernel.rb:47:in `dispatch'\u001b[0m",
      "\u001b[37m/home/toni/.rbenv/versions/2.5.0/lib/ruby/gems/2.5.0/gems/iruby-0.3/lib/iruby/kernel.rb:37:in `run'\u001b[0m",
      "\u001b[37m/home/toni/.rbenv/versions/2.5.0/lib/ruby/gems/2.5.0/gems/iruby-0.3/lib/iruby/command.rb:70:in `run_kernel'\u001b[0m",
      "\u001b[37m/home/toni/.rbenv/versions/2.5.0/lib/ruby/gems/2.5.0/gems/iruby-0.3/lib/iruby/command.rb:34:in `run'\u001b[0m",
      "\u001b[37m/home/toni/.rbenv/versions/2.5.0/lib/ruby/gems/2.5.0/gems/iruby-0.3/bin/iruby:5:in `<top (required)>'\u001b[0m",
      "\u001b[37m/home/toni/.rbenv/versions/2.5.0/bin/iruby:23:in `load'\u001b[0m",
      "\u001b[37m/home/toni/.rbenv/versions/2.5.0/bin/iruby:23:in `<main>'\u001b[0m"
     ]
    }
   ],
   "source": [
    "def my_method\n",
    "  puts \"Before yield\"\n",
    "  yield\n",
    "  puts \"After yield\"\n",
    "end\n",
    "\n",
    "my_method"
   ]
  },
  {
   "cell_type": "code",
   "execution_count": 5,
   "metadata": {},
   "outputs": [
    {
     "name": "stdout",
     "output_type": "stream",
     "text": [
      "Before yield\n",
      "After yield\n"
     ]
    }
   ],
   "source": [
    "def my_method\n",
    "  puts \"Before yield\"\n",
    "  if block_given?\n",
    "    yield\n",
    "  end\n",
    "  puts \"After yield\"\n",
    "end\n",
    "\n",
    "my_method"
   ]
  },
  {
   "cell_type": "code",
   "execution_count": null,
   "metadata": {
    "collapsed": true
   },
   "outputs": [],
   "source": []
  }
 ],
 "metadata": {
  "kernelspec": {
   "display_name": "Ruby 2.5.0",
   "language": "ruby",
   "name": "ruby"
  },
  "language_info": {
   "file_extension": ".rb",
   "mimetype": "application/x-ruby",
   "name": "ruby",
   "version": "2.5.0"
  }
 },
 "nbformat": 4,
 "nbformat_minor": 2
}
